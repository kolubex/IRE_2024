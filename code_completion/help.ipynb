{
 "cells": [
  {
   "cell_type": "code",
   "execution_count": 2,
   "metadata": {},
   "outputs": [
    {
     "name": "stderr",
     "output_type": "stream",
     "text": [
      "/ssd_scratch/cvit/kolubex/.cache/envs/ire_pre_mid/lib/python3.10/site-packages/tqdm/auto.py:21: TqdmWarning: IProgress not found. Please update jupyter and ipywidgets. See https://ipywidgets.readthedocs.io/en/stable/user_install.html\n",
      "  from .autonotebook import tqdm as notebook_tqdm\n"
     ]
    }
   ],
   "source": [
    "from datasets import load_dataset\n",
    "from process_python import processor\n",
    "\n",
    "ds = load_dataset(\"google-research-datasets/mbpp\", \"full\")"
   ]
  },
  {
   "cell_type": "code",
   "execution_count": 3,
   "metadata": {},
   "outputs": [],
   "source": [
    "testing_processor = processor(lang=\"python\", code= ds['test'][0]['code'], remove_comments=True)"
   ]
  },
  {
   "cell_type": "code",
   "execution_count": 6,
   "metadata": {},
   "outputs": [],
   "source": [
    "augmented_code = testing_processor.process(ratio=0.7, add_dead_code=True, cut_ratio=0.0)"
   ]
  },
  {
   "cell_type": "code",
   "execution_count": 9,
   "metadata": {},
   "outputs": [],
   "source": [
    "import pandas as pd\n",
    "csv_path = \"/home2/kolubex/course_work/ire/project/ReACC/processed_dataset_r0.85_c0.3_d1.csv\"\n",
    "data = pd.read_csv(csv_path)"
   ]
  },
  {
   "cell_type": "code",
   "execution_count": 10,
   "metadata": {},
   "outputs": [
    {
     "data": {
      "text/html": [
       "<div>\n",
       "<style scoped>\n",
       "    .dataframe tbody tr th:only-of-type {\n",
       "        vertical-align: middle;\n",
       "    }\n",
       "\n",
       "    .dataframe tbody tr th {\n",
       "        vertical-align: top;\n",
       "    }\n",
       "\n",
       "    .dataframe thead th {\n",
       "        text-align: right;\n",
       "    }\n",
       "</style>\n",
       "<table border=\"1\" class=\"dataframe\">\n",
       "  <thead>\n",
       "    <tr style=\"text-align: right;\">\n",
       "      <th></th>\n",
       "      <th>code</th>\n",
       "      <th>processed_code</th>\n",
       "    </tr>\n",
       "  </thead>\n",
       "  <tbody>\n",
       "    <tr>\n",
       "      <th>0</th>\n",
       "      <td>def remove_Occ(s,ch): \\r\\n    for i in range(l...</td>\n",
       "      <td>def input(s,file):&lt;endofline&gt;&lt;INDENT&gt;for value...</td>\n",
       "    </tr>\n",
       "    <tr>\n",
       "      <th>1</th>\n",
       "      <td>def sort_matrix(M):\\r\\n    result = sorted(M, ...</td>\n",
       "      <td>def data(M):&lt;endofline&gt;&lt;INDENT&gt;mean = sorted(M...</td>\n",
       "    </tr>\n",
       "    <tr>\n",
       "      <th>2</th>\n",
       "      <td>from collections import Counter\\r\\ndef count_c...</td>\n",
       "      <td>from collections import Counter&lt;endofline&gt;def ...</td>\n",
       "    </tr>\n",
       "    <tr>\n",
       "      <th>3</th>\n",
       "      <td>def find_Volume(l,b,h) : \\r\\n    return ((l * ...</td>\n",
       "      <td>def item(result,b,data</td>\n",
       "    </tr>\n",
       "    <tr>\n",
       "      <th>4</th>\n",
       "      <td>import re\\r\\ndef split_lowerstring(text):\\r\\n ...</td>\n",
       "      <td>import re&lt;endofline&gt;def write(result):&lt;endofli...</td>\n",
       "    </tr>\n",
       "  </tbody>\n",
       "</table>\n",
       "</div>"
      ],
      "text/plain": [
       "                                                code  \\\n",
       "0  def remove_Occ(s,ch): \\r\\n    for i in range(l...   \n",
       "1  def sort_matrix(M):\\r\\n    result = sorted(M, ...   \n",
       "2  from collections import Counter\\r\\ndef count_c...   \n",
       "3  def find_Volume(l,b,h) : \\r\\n    return ((l * ...   \n",
       "4  import re\\r\\ndef split_lowerstring(text):\\r\\n ...   \n",
       "\n",
       "                                      processed_code  \n",
       "0  def input(s,file):<endofline><INDENT>for value...  \n",
       "1  def data(M):<endofline><INDENT>mean = sorted(M...  \n",
       "2  from collections import Counter<endofline>def ...  \n",
       "3                             def item(result,b,data  \n",
       "4  import re<endofline>def write(result):<endofli...  "
      ]
     },
     "execution_count": 10,
     "metadata": {},
     "output_type": "execute_result"
    }
   ],
   "source": [
    "data.head()"
   ]
  }
 ],
 "metadata": {
  "kernelspec": {
   "display_name": "ire_pre_mid",
   "language": "python",
   "name": "python3"
  },
  "language_info": {
   "codemirror_mode": {
    "name": "ipython",
    "version": 3
   },
   "file_extension": ".py",
   "mimetype": "text/x-python",
   "name": "python",
   "nbconvert_exporter": "python",
   "pygments_lexer": "ipython3",
   "version": "3.10.2"
  }
 },
 "nbformat": 4,
 "nbformat_minor": 2
}
